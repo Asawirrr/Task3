{
 "cells": [
  {
   "cell_type": "code",
   "execution_count": 1,
   "id": "15b770bf-7d19-4db1-98c6-df58b28680c2",
   "metadata": {},
   "outputs": [
    {
     "name": "stderr",
     "output_type": "stream",
     "text": [
      "[nltk_data] Downloading package stopwords to\n",
      "[nltk_data]     C:\\Users\\Asawir\\AppData\\Roaming\\nltk_data...\n",
      "[nltk_data]   Unzipping corpora\\stopwords.zip.\n",
      "[nltk_data] Downloading package wordnet to\n",
      "[nltk_data]     C:\\Users\\Asawir\\AppData\\Roaming\\nltk_data...\n",
      "[nltk_data]   Package wordnet is already up-to-date!\n"
     ]
    },
    {
     "data": {
      "text/plain": [
       "True"
      ]
     },
     "execution_count": 1,
     "metadata": {},
     "output_type": "execute_result"
    }
   ],
   "source": [
    "import pandas as pd\n",
    "import numpy as np\n",
    "import re\n",
    "import string\n",
    "from sklearn.model_selection import train_test_split\n",
    "from sklearn.feature_extraction.text import TfidfVectorizer\n",
    "from sklearn.naive_bayes import MultinomialNB\n",
    "from sklearn.metrics import accuracy_score\n",
    "import nltk\n",
    "from nltk.corpus import stopwords\n",
    "from nltk.stem import WordNetLemmatizer\n",
    "\n",
    "# Download necessary NLTK resources (Run this once)\n",
    "nltk.download('stopwords')\n",
    "nltk.download('wordnet')"
   ]
  },
  {
   "cell_type": "code",
   "execution_count": 63,
   "id": "28837bc1-cfdb-436b-97f2-33e8d5fcd8ef",
   "metadata": {},
   "outputs": [
    {
     "name": "stdout",
     "output_type": "stream",
     "text": [
      "Dataset Loaded Successfully!\n"
     ]
    },
    {
     "data": {
      "text/html": [
       "<div>\n",
       "<style scoped>\n",
       "    .dataframe tbody tr th:only-of-type {\n",
       "        vertical-align: middle;\n",
       "    }\n",
       "\n",
       "    .dataframe tbody tr th {\n",
       "        vertical-align: top;\n",
       "    }\n",
       "\n",
       "    .dataframe thead th {\n",
       "        text-align: right;\n",
       "    }\n",
       "</style>\n",
       "<table border=\"1\" class=\"dataframe\">\n",
       "  <thead>\n",
       "    <tr style=\"text-align: right;\">\n",
       "      <th></th>\n",
       "      <th>title</th>\n",
       "      <th>text</th>\n",
       "      <th>subject</th>\n",
       "      <th>date</th>\n",
       "      <th>label</th>\n",
       "    </tr>\n",
       "  </thead>\n",
       "  <tbody>\n",
       "    <tr>\n",
       "      <th>0</th>\n",
       "      <td>Iraqi parliament votes to remove kirkuk govern...</td>\n",
       "      <td>BAGHDAD (Reuters) - Iraq s parliament voted on...</td>\n",
       "      <td>worldnews</td>\n",
       "      <td>September 14, 2017</td>\n",
       "      <td>1</td>\n",
       "    </tr>\n",
       "    <tr>\n",
       "      <th>1</th>\n",
       "      <td>Trump eyes top policy aide for communications ...</td>\n",
       "      <td>WASHINGTON (Reuters) - The White House may app...</td>\n",
       "      <td>politicsNews</td>\n",
       "      <td>August 5, 2017</td>\n",
       "      <td>1</td>\n",
       "    </tr>\n",
       "    <tr>\n",
       "      <th>2</th>\n",
       "      <td>WATCH: Maxine Waters Starts Disgusting Chant A...</td>\n",
       "      <td>The Women s Convention in Detroit brings to mi...</td>\n",
       "      <td>politics</td>\n",
       "      <td>Oct 29, 2017</td>\n",
       "      <td>0</td>\n",
       "    </tr>\n",
       "    <tr>\n",
       "      <th>3</th>\n",
       "      <td>Turkey's Halkbank denies allegations of illega...</td>\n",
       "      <td>ISTANBUL (Reuters) - Turkish state lender Halk...</td>\n",
       "      <td>worldnews</td>\n",
       "      <td>November 30, 2017</td>\n",
       "      <td>1</td>\n",
       "    </tr>\n",
       "    <tr>\n",
       "      <th>4</th>\n",
       "      <td>CIA INSPECTOR: “Hillary endangered lives” FORM...</td>\n",
       "      <td>Poor Hillary, she s always the victim of some ...</td>\n",
       "      <td>Government News</td>\n",
       "      <td>Jan 21, 2016</td>\n",
       "      <td>0</td>\n",
       "    </tr>\n",
       "  </tbody>\n",
       "</table>\n",
       "</div>"
      ],
      "text/plain": [
       "                                               title  \\\n",
       "0  Iraqi parliament votes to remove kirkuk govern...   \n",
       "1  Trump eyes top policy aide for communications ...   \n",
       "2  WATCH: Maxine Waters Starts Disgusting Chant A...   \n",
       "3  Turkey's Halkbank denies allegations of illega...   \n",
       "4  CIA INSPECTOR: “Hillary endangered lives” FORM...   \n",
       "\n",
       "                                                text          subject  \\\n",
       "0  BAGHDAD (Reuters) - Iraq s parliament voted on...        worldnews   \n",
       "1  WASHINGTON (Reuters) - The White House may app...     politicsNews   \n",
       "2  The Women s Convention in Detroit brings to mi...         politics   \n",
       "3  ISTANBUL (Reuters) - Turkish state lender Halk...        worldnews   \n",
       "4  Poor Hillary, she s always the victim of some ...  Government News   \n",
       "\n",
       "                  date  label  \n",
       "0  September 14, 2017       1  \n",
       "1      August 5, 2017       1  \n",
       "2         Oct 29, 2017      0  \n",
       "3   November 30, 2017       1  \n",
       "4         Jan 21, 2016      0  "
      ]
     },
     "execution_count": 63,
     "metadata": {},
     "output_type": "execute_result"
    }
   ],
   "source": [
    "# Load dataset\n",
    "df_fake = pd.read_csv(\"Fake.csv\")\n",
    "df_real = pd.read_csv(\"True.csv\")\n",
    "\n",
    "df_fake[\"label\"] = 0  # Fake News = 0\n",
    "df_real[\"label\"] = 1  # Real News = 1\n",
    "\n",
    "df = pd.concat([df_fake, df_real], axis=0)\n",
    "df = df.sample(frac=1).reset_index(drop=True)  # Shuffle dataset\n",
    "\n",
    "print(\"Dataset Loaded Successfully!\")\n",
    "df.head()"
   ]
  },
  {
   "cell_type": "code",
   "execution_count": 65,
   "id": "7880f5a8-c206-4009-9406-fb96af1456da",
   "metadata": {},
   "outputs": [
    {
     "name": "stdout",
     "output_type": "stream",
     "text": [
      "Text Preprocessing Completed!\n"
     ]
    },
    {
     "data": {
      "text/html": [
       "<div>\n",
       "<style scoped>\n",
       "    .dataframe tbody tr th:only-of-type {\n",
       "        vertical-align: middle;\n",
       "    }\n",
       "\n",
       "    .dataframe tbody tr th {\n",
       "        vertical-align: top;\n",
       "    }\n",
       "\n",
       "    .dataframe thead th {\n",
       "        text-align: right;\n",
       "    }\n",
       "</style>\n",
       "<table border=\"1\" class=\"dataframe\">\n",
       "  <thead>\n",
       "    <tr style=\"text-align: right;\">\n",
       "      <th></th>\n",
       "      <th>title</th>\n",
       "      <th>text</th>\n",
       "      <th>subject</th>\n",
       "      <th>date</th>\n",
       "      <th>label</th>\n",
       "    </tr>\n",
       "  </thead>\n",
       "  <tbody>\n",
       "    <tr>\n",
       "      <th>0</th>\n",
       "      <td>Iraqi parliament votes to remove kirkuk govern...</td>\n",
       "      <td>iraqi parliament vote remove kirkuk governor o...</td>\n",
       "      <td>worldnews</td>\n",
       "      <td>September 14, 2017</td>\n",
       "      <td>1</td>\n",
       "    </tr>\n",
       "    <tr>\n",
       "      <th>1</th>\n",
       "      <td>Trump eyes top policy aide for communications ...</td>\n",
       "      <td>trump eye top policy aide communication direct...</td>\n",
       "      <td>politicsNews</td>\n",
       "      <td>August 5, 2017</td>\n",
       "      <td>1</td>\n",
       "    </tr>\n",
       "    <tr>\n",
       "      <th>2</th>\n",
       "      <td>WATCH: Maxine Waters Starts Disgusting Chant A...</td>\n",
       "      <td>watch maxine water start disgusting chant wome...</td>\n",
       "      <td>politics</td>\n",
       "      <td>Oct 29, 2017</td>\n",
       "      <td>0</td>\n",
       "    </tr>\n",
       "    <tr>\n",
       "      <th>3</th>\n",
       "      <td>Turkey's Halkbank denies allegations of illega...</td>\n",
       "      <td>turkey halkbank denies allegation illegal tran...</td>\n",
       "      <td>worldnews</td>\n",
       "      <td>November 30, 2017</td>\n",
       "      <td>1</td>\n",
       "    </tr>\n",
       "    <tr>\n",
       "      <th>4</th>\n",
       "      <td>CIA INSPECTOR: “Hillary endangered lives” FORM...</td>\n",
       "      <td>cia inspector “hillary endangered lives” forme...</td>\n",
       "      <td>Government News</td>\n",
       "      <td>Jan 21, 2016</td>\n",
       "      <td>0</td>\n",
       "    </tr>\n",
       "  </tbody>\n",
       "</table>\n",
       "</div>"
      ],
      "text/plain": [
       "                                               title  \\\n",
       "0  Iraqi parliament votes to remove kirkuk govern...   \n",
       "1  Trump eyes top policy aide for communications ...   \n",
       "2  WATCH: Maxine Waters Starts Disgusting Chant A...   \n",
       "3  Turkey's Halkbank denies allegations of illega...   \n",
       "4  CIA INSPECTOR: “Hillary endangered lives” FORM...   \n",
       "\n",
       "                                                text          subject  \\\n",
       "0  iraqi parliament vote remove kirkuk governor o...        worldnews   \n",
       "1  trump eye top policy aide communication direct...     politicsNews   \n",
       "2  watch maxine water start disgusting chant wome...         politics   \n",
       "3  turkey halkbank denies allegation illegal tran...        worldnews   \n",
       "4  cia inspector “hillary endangered lives” forme...  Government News   \n",
       "\n",
       "                  date  label  \n",
       "0  September 14, 2017       1  \n",
       "1      August 5, 2017       1  \n",
       "2         Oct 29, 2017      0  \n",
       "3   November 30, 2017       1  \n",
       "4         Jan 21, 2016      0  "
      ]
     },
     "execution_count": 65,
     "metadata": {},
     "output_type": "execute_result"
    }
   ],
   "source": [
    "# Text preprocessing function\n",
    "def preprocess_text(text):\n",
    "    text = text.lower()  # Convert to lowercase\n",
    "    text = re.sub(r'\\d+', '', text)  # Remove numbers\n",
    "    text = text.translate(str.maketrans('', '', string.punctuation))  # Remove punctuation\n",
    "    words = text.split()\n",
    "    stop_words = set(stopwords.words('english'))\n",
    "    words = [word for word in words if word not in stop_words]  # Remove stopwords\n",
    "    lemmatizer = WordNetLemmatizer()\n",
    "    words = [lemmatizer.lemmatize(word) for word in words]  # Lemmatization\n",
    "    return ' '.join(words)\n",
    "\n",
    "df['text'] = df['title'] + ' ' + df['text']  # Combine title and text\n",
    "df['text'] = df['text'].apply(preprocess_text)\n",
    "\n",
    "print(\"Text Preprocessing Completed!\")\n",
    "df.head()"
   ]
  },
  {
   "cell_type": "code",
   "execution_count": 67,
   "id": "97aa1819-3f93-46ce-b036-009ac5ecbeb6",
   "metadata": {},
   "outputs": [
    {
     "name": "stdout",
     "output_type": "stream",
     "text": [
      "Train-Test Split Done!\n",
      "Training Samples: 35918, Testing Samples: 8980\n"
     ]
    }
   ],
   "source": [
    "from tensorflow.keras.layers import Dense, LSTM, Embedding, SpatialDropout1D\n",
    "from tensorflow.keras.preprocessing.text import Tokenizer\n",
    "from tensorflow.keras.preprocessing.sequence import pad_sequences\n",
    "\n",
    "# Tokenization & Padding\n",
    "MAX_NB_WORDS = 50000  # Max words in vocabulary\n",
    "MAX_SEQUENCE_LENGTH = 500  # Max length of input sequence\n",
    "EMBEDDING_DIM = 100  # Embedding size\n",
    "\n",
    "tokenizer = Tokenizer(num_words=MAX_NB_WORDS)\n",
    "tokenizer.fit_on_texts(df['text'])\n",
    "X = tokenizer.texts_to_sequences(df['text'])\n",
    "X = pad_sequences(X, maxlen=MAX_SEQUENCE_LENGTH)\n",
    "\n",
    "y = df['label'].values\n",
    "\n",
    "# Train-test split\n",
    "X_train, X_test, y_train, y_test = train_test_split(X, y, test_size=0.2, random_state=42)\n",
    "\n",
    "print(\"Tokenization & Padding Completed!\")\n",
    "print(f\"Training Samples: {len(X_train)}, Testing Samples: {len(X_test)}\")"
   ]
  },
  {
   "cell_type": "code",
   "execution_count": 69,
   "id": "a8b590c7-2b06-4bbf-acc1-14dff1c6e44c",
   "metadata": {},
   "outputs": [
    {
     "name": "stdout",
     "output_type": "stream",
     "text": [
      "TF-IDF Feature Extraction Completed!\n"
     ]
    }
   ],
   "source": [
    "from tensorflow.keras.models import Sequential\n",
    "# Define LSTM Model\n",
    "model = Sequential()\n",
    "model.add(Embedding(MAX_NB_WORDS, EMBEDDING_DIM))\n",
    "model.add(SpatialDropout1D(0.2))\n",
    "model.add(LSTM(100, dropout=0.2, recurrent_dropout=0.2))\n",
    "model.add(Dense(1, activation='sigmoid'))  # Binary classification\n",
    "\n",
    "model.compile(loss='binary_crossentropy', optimizer='adam', metrics=['accuracy'])\n",
    "\n",
    "print(model.summary())\n",
    "\n",
    "# Train model\n",
    "history = model.fit(X_train, y_train, epochs=5, batch_size=64, validation_data=(X_test, y_test), verbose=1)\n",
    "\n",
    "print(\"LSTM Model Training Completed!\")"
   ]
  },
  {
   "cell_type": "code",
   "execution_count": 71,
   "id": "2ad120ec-fe0f-41dc-b664-8b5928e7ae6f",
   "metadata": {},
   "outputs": [
    {
     "name": "stdout",
     "output_type": "stream",
     "text": [
      "Naïve Bayes Model Training Completed!\n"
     ]
    }
   ],
   "source": [
    "# Predictions\n",
    "y_pred = (model.predict(X_test) > 0.5).astype(\"int32\")\n",
    "\n",
    "# Accuracy\n",
    "accuracy = accuracy_score(y_test, y_pred)\n",
    "print(f'LSTM Accuracy: {accuracy * 100:.2f}%')\n",
    "from sklearn.metrics import classification_report, roc_auc_score\n",
    "\n",
    "# Generate a classification report (Precision, Recall, F1-score)\n",
    "print(\"Classification Report:\\n\", classification_report(y_test, y_pred))\n",
    "\n",
    "# Calculate AUC-ROC Score\n",
    "auc_roc = roc_auc_score(y_test, y_pred)\n",
    "print(f'AUC-ROC Score: {auc_roc:.2f}')\n",
    "import pickle\n",
    "\n",
    "# Save the trained model\n",
    "model.save(\"lstm_model.h5\")\n",
    "\n",
    "# Save the tokenizer\n",
    "with open(\"tokenizer.pkl\", \"wb\") as handle:\n",
    "    pickle.dump(tokenizer, handle)\n",
    "\n",
    "print(\"Model and Tokenizer Saved Successfully!\")\n"
   ]
  },
  {
   "cell_type": "code",
   "execution_count": 73,
   "id": "175e622c-e4d2-48a3-9e68-be941882c866",
   "metadata": {},
   "outputs": [
    {
     "name": "stdout",
     "output_type": "stream",
     "text": [
      "Naïve Bayes Accuracy: 94.49%\n"
     ]
    }
   ],
   "source": []
  },
  {
   "cell_type": "code",
   "execution_count": 75,
   "id": "46d45d63-3064-4737-a00e-f919b7122d67",
   "metadata": {},
   "outputs": [
    {
     "name": "stdout",
     "output_type": "stream",
     "text": [
      "Random Forest Model Training Completed!\n"
     ]
    }
   ],
   "source": []
  },
  {
   "cell_type": "code",
   "execution_count": 77,
   "id": "31a278e6-be0f-43be-9b85-758abc48d994",
   "metadata": {},
   "outputs": [
    {
     "name": "stdout",
     "output_type": "stream",
     "text": [
      "Random Forest Accuracy: 99.11%\n"
     ]
    }
   ],
   "source": []
  },
  {
   "cell_type": "code",
   "execution_count": null,
   "id": "913cfd44-f030-4e4f-9a8c-dd2521782713",
   "metadata": {},
   "outputs": [],
   "source": []
  },
  {
   "cell_type": "code",
   "execution_count": null,
   "id": "30623da7-71ce-4b5f-9603-848520093357",
   "metadata": {},
   "outputs": [],
   "source": []
  },
  {
   "cell_type": "code",
   "execution_count": null,
   "id": "3af4d76c-0e07-4162-8729-3bbea77a51e4",
   "metadata": {},
   "outputs": [],
   "source": []
  },
  {
   "cell_type": "code",
   "execution_count": null,
   "id": "4098f315-7e57-446c-bb5b-b6d50cd7566f",
   "metadata": {},
   "outputs": [],
   "source": []
  },
  {
   "cell_type": "code",
   "execution_count": null,
   "id": "eace2191-dff0-437a-90e8-7149b6b166c3",
   "metadata": {},
   "outputs": [],
   "source": []
  }
 ],
 "metadata": {
  "kernelspec": {
   "display_name": "Python 3 (ipykernel)",
   "language": "python",
   "name": "python3"
  },
  "language_info": {
   "codemirror_mode": {
    "name": "ipython",
    "version": 3
   },
   "file_extension": ".py",
   "mimetype": "text/x-python",
   "name": "python",
   "nbconvert_exporter": "python",
   "pygments_lexer": "ipython3",
   "version": "3.12.7"
  }
 },
 "nbformat": 4,
 "nbformat_minor": 5
}
